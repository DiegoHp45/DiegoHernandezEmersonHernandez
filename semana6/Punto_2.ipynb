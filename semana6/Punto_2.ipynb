{
 "cells": [
  {
   "cell_type": "code",
   "execution_count": 1,
   "metadata": {},
   "outputs": [],
   "source": [
    "import numpy as np\n",
    "import sympy as sym"
   ]
  },
  {
   "cell_type": "code",
   "execution_count": 29,
   "metadata": {},
   "outputs": [],
   "source": [
    "t = sym.Symbol('t',Real=True)\n",
    "h = sym.Symbol('h',Real=True)"
   ]
  },
  {
   "cell_type": "markdown",
   "metadata": {},
   "source": [
    "Formula de tres puntos\n",
    "$$ [f_{n},t_{n}] \\ [f_{n-1},t_{n-1}] [f_{n-2},t_{n-2}]$$\n",
    "\n",
    "$$ f_{n}\\bigg(\\frac{t-t_{n-1}}{t_{n}-t_{n-1}}\\bigg)\\bigg(\\frac{t-t_{n-2}}{t_{n}-t_{n-2}}\\bigg)  $$"
   ]
  },
  {
   "cell_type": "code",
   "execution_count": 30,
   "metadata": {},
   "outputs": [],
   "source": [
    "F1 = (t-(-h))*(t-(-2*h))/(2*h**2)\n",
    "F2 = -(t-(0))*(t-(-2*h))/(h**2)\n",
    "F3 = (t-(-h))*(t-(0))/(2*h**2)"
   ]
  },
  {
   "cell_type": "code",
   "execution_count": 31,
   "metadata": {},
   "outputs": [
    {
     "name": "stdout",
     "output_type": "stream",
     "text": [
      "23*h/12 -4*h/3 5*h/12\n"
     ]
    }
   ],
   "source": [
    "I1 = sym.integrate(F1, (t,0,h))\n",
    "I2 = sym.integrate(F2, (t,0,h))\n",
    "I3 = sym.integrate(F3, (t,0,h))\n",
    "print(I1,I2,I3)"
   ]
  },
  {
   "cell_type": "markdown",
   "metadata": {},
   "source": [
    "$$ y_{n+3} = y_{n+2} +\\frac{h}{12}\\bigg(23 f_{n+2} - 16 f_{n+1} + 5 f_{n}\\bigg) $$"
   ]
  },
  {
   "cell_type": "code",
   "execution_count": 32,
   "metadata": {},
   "outputs": [],
   "source": [
    "F1 = (t-(0))*(t-(-h))/(2*h**2)\n",
    "F2 = -(t-(h))*(t-(-h))/(h**2)\n",
    "F3 = (t-(0))*(t-(h))/(2*h**2)"
   ]
  },
  {
   "cell_type": "code",
   "execution_count": 33,
   "metadata": {},
   "outputs": [
    {
     "name": "stdout",
     "output_type": "stream",
     "text": [
      "5*h/12 2*h/3 -h/12\n"
     ]
    }
   ],
   "source": [
    "I1 = sym.integrate(F1, (t,0,h))\n",
    "I2 = sym.integrate(F2, (t,0,h))\n",
    "I3 = sym.integrate(F3, (t,0,h))\n",
    "print(I1,I2,I3)"
   ]
  },
  {
   "cell_type": "markdown",
   "metadata": {},
   "source": [
    "$$ y_{n+3} = y_{n+2} +\\frac{h}{12}\\bigg(5 f_{n+2} + 8 f_{n+1} - f_{n}\\bigg) $$"
   ]
  },
  {
   "cell_type": "code",
   "execution_count": null,
   "metadata": {},
   "outputs": [],
   "source": []
  },
  {
   "cell_type": "markdown",
   "metadata": {},
   "source": [
    "Formula de cuatro puntos\n",
    "$$ [f_{n},t_{n}] \\ [f_{n-1},t_{n-1}] [f_{n-2},t_{n-2}][f_{n-3},t_{n-3}]$$\n",
    "\n",
    "$$ f_{n}\\bigg(\\frac{t-t_{n-1}}{t_{n}-t_{n-1}}\\bigg)\\bigg(\\frac{t-t_{n-2}}{t_{n}-t_{n-2}}\\bigg)\\bigg(\\frac{t-t_{n-3}}{t_{n}-t_{n-3}}\\bigg)  $$"
   ]
  },
  {
   "cell_type": "code",
   "execution_count": 34,
   "metadata": {},
   "outputs": [],
   "source": [
    "F1 = (t-(-h))*(t-(-2*h))*(t-(-3*h))/(6*h**3)\n",
    "F2 = -(t-(0))*(t-(-2*h))*(t-(-3*h))/(2*h**3)\n",
    "F3 = (t-(-h))*(t-(0))*(t-(-3*h))/(2*h**3)\n",
    "F4 = -(t-(-h))*(t-(0))*(t-(-2*h))/(6*h**3)"
   ]
  },
  {
   "cell_type": "code",
   "execution_count": 35,
   "metadata": {},
   "outputs": [
    {
     "name": "stdout",
     "output_type": "stream",
     "text": [
      "55*h/24 -59*h/24 37*h/24 -3*h/8\n"
     ]
    }
   ],
   "source": [
    "I1= sym.integrate(F1,(t,0,h))\n",
    "I2= sym.integrate(F2,(t,0,h))\n",
    "I3= sym.integrate(F3,(t,0,h))\n",
    "I4= sym.integrate(F4,(t,0,h))\n",
    "\n",
    "print(I1,I2,I3,I4)"
   ]
  },
  {
   "cell_type": "markdown",
   "metadata": {},
   "source": [
    "Asi pues se cumple para Adams-Bashforth: \n",
    "$$ y_{n+4} = y_{n+3} +\\frac{h}{24}\\bigg(55 f_{n+3} - 59 f_{n+2} + 37 f_{n+1} - 9 f_{n}\\bigg) $$\n",
    "\n",
    "Cabe resaltar :\n",
    "$$ \\frac{3}{8} = \\frac{9}{24} $$"
   ]
  },
  {
   "cell_type": "code",
   "execution_count": 39,
   "metadata": {},
   "outputs": [],
   "source": [
    "F1 = (t-(0))*(t-(-h))*(t-(-2*h))/(6*h**3)\n",
    "F2 = -(t-(h))*(t-(-h))*(t-(-2*h))/(2*h**3)\n",
    "F3 = (t-(0))*(t-(h))*(t-(-2*h))/(2*h**3)\n",
    "F4 = -(t-(0))*(t-(h))*(t-(-h))/(6*h**3)"
   ]
  },
  {
   "cell_type": "code",
   "execution_count": 40,
   "metadata": {},
   "outputs": [
    {
     "name": "stdout",
     "output_type": "stream",
     "text": [
      "3*h/8 19*h/24 -5*h/24 h/24\n"
     ]
    }
   ],
   "source": [
    "I1= sym.integrate(F1,(t,0,h))\n",
    "I2= sym.integrate(F2,(t,0,h))\n",
    "I3= sym.integrate(F3,(t,0,h))\n",
    "I4= sym.integrate(F4,(t,0,h))\n",
    "\n",
    "print(I1,I2,I3,I4)"
   ]
  },
  {
   "cell_type": "markdown",
   "metadata": {},
   "source": [
    "Por tanto tambien se cumple para Adams-Moulton: \n",
    "$$ y_{n+4} = y_{n+3} + \\frac{h}{24}\\bigg(9 f_{n+3} + 19 f_{n+2} - 5 f_{n+1} + f_{n}\\bigg) $$\n",
    "\n",
    "Cabe resaltar :\n",
    "$$ \\frac{3}{8} = \\frac{9}{24} $$"
   ]
  },
  {
   "cell_type": "code",
   "execution_count": null,
   "metadata": {},
   "outputs": [],
   "source": []
  }
 ],
 "metadata": {
  "kernelspec": {
   "display_name": "Python 3",
   "language": "python",
   "name": "python3"
  },
  "language_info": {
   "codemirror_mode": {
    "name": "ipython",
    "version": 3
   },
   "file_extension": ".py",
   "mimetype": "text/x-python",
   "name": "python",
   "nbconvert_exporter": "python",
   "pygments_lexer": "ipython3",
   "version": "3.8.5"
  }
 },
 "nbformat": 4,
 "nbformat_minor": 5
}
