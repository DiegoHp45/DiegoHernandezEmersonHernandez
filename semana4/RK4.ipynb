{
 "cells": [
  {
   "cell_type": "code",
   "execution_count": 14,
   "metadata": {},
   "outputs": [],
   "source": [
    "import numpy as np\n",
    "import matplotlib.pyplot as plt"
   ]
  },
  {
   "cell_type": "code",
   "execution_count": 15,
   "metadata": {},
   "outputs": [],
   "source": [
    "G = 6.67e-11\n",
    "MT = 5.9736e24\n",
    "ML = 0.07349e24\n",
    "d = 3.844e8   \n",
    "w= 2.6617e-6\n",
    "r_T= 6.378160e6\n",
    "r_L= 1.7374e6\n",
    "mu= ML/MT\n",
    "\n",
    "h= 1/86400\n",
    "N= 432\n",
    "t= np.linspace(0,5,N)\n",
    "\n",
    "m_est= 17000\n",
    "theta= np.pi/3\n",
    "v= 11200\n",
    "vel= np.array([v*np.cos(theta),v*np.sin(theta)])\n",
    "psi= np.pi/8\n",
    "triangulito= G * MT/ d**3\n"
   ]
  },
  {
   "cell_type": "code",
   "execution_count": 16,
   "metadata": {},
   "outputs": [],
   "source": [
    "def r_(r,t):\n",
    "    return np.sqrt(1+r**2-2*r*np.cos(psi-w*t))\n",
    "\n",
    "def f0(pr):\n",
    "    return pr\n",
    "\n",
    "def f1(ps,r,t):\n",
    "    return ps/(r**2)\n",
    "\n",
    "def f2(r,ps,t):\n",
    "    rt= r_(r,t)\n",
    "    return ps**2/r**3 - triangulito(1/r**2 + mu/rt**3 * (r - np.cos(psi - w*t)))\n",
    "\n",
    "def f3(r,t):\n",
    "    rt= r_(r,t)\n",
    "    return - triangulito * r/rt**3 * np.sin(psi - w*t)\n",
    "\n",
    "\n",
    "r_i= r_T/d\n",
    "pr_i= v/d * m_est\n",
    "ps_i = v/d * m_est * r_i\n",
    "\n",
    "    \n"
   ]
  },
  {
   "cell_type": "code",
   "execution_count": 17,
   "metadata": {},
   "outputs": [],
   "source": [
    "def RK4(f0,f1,f2,f3,ri,ps_i,pr_i,t):\n",
    "\n",
    "    k1= np.zeros(4)\n",
    "    k2= np.zeros(4)\n",
    "    k3= np.zeros(4)\n",
    "    k4= np.zeros(4)\n",
    "    \n",
    "    x= np.zeros(len(t)); x= np.array([x,x,x,x])\n",
    "    y= np.zeros(len(t)); x= np.array([y,y,y,y])\n",
    "    y[0][0]= pr_i\n",
    "    x[0][0]= pr_i\n",
    "    x[1][0]= ps_i\n",
    "    y[1][0]= ri\n",
    "    x[2][0]= ps_i\n",
    "    y[2][0]= ri\n",
    "    x[3][0]= ri\n",
    "\n",
    "    \n",
    "    for i in range(1,len(t)):\n",
    "        \n",
    "        k1[0]= f0(x[i-1],y[0][i-1])\n",
    "        k1[1]= f1(x[i-1],y[1][i-1])\n",
    "        k1[2]= f2(x[i-1],y[2][i-1])\n",
    "        k1[3]= f3(x[i-1],y[3][i-1])\n",
    "\n",
    "        k2[0]= f0(x[i-1]+h/2,y[0][i-1]+k1[0]*h/2)\n",
    "        k2[1]= f1(x[i-1]+h/2,y[1][i-1]+k1[1]*h/2)\n",
    "        k2[2]= f2(x[i-1]+h/2,y[2][i-1]+k1[2]*h/2)\n",
    "        k2[3]= f3(x[i-1]+h/2,y[3][i-1]+k1[3]*h/2)\n",
    "\n",
    "        k3[0]= f0(x[i-1]+h/2,y[0][i-1]+k2[0]*h/2)\n",
    "        k3[1]= f1(x[i-1]+h/2,y[1][i-1]+k2[1]*h/2)\n",
    "        k3[2]= f2(x[i-1]+h/2,y[2][i-1]+k2[2]*h/2)\n",
    "        k3[3]= f3(x[i-1]+h/2,y[3][i-1]+k2[3]*h/2)\n",
    "\n",
    "        k4[0]= f0(x[i-1]+h,y[0][i-1]+h*k3[0])\n",
    "        k4[1]= f1(x[i-1]+h,y[1][i-1]+h*k3[1])\n",
    "        k4[2]= f2(x[i-1]+h,y[2][i-1]+h*k3[2])\n",
    "        k4[3]= f3(x[i-1]+h,y[3][i-1]+h*k3[3])\n",
    "        \n",
    "        y[0][i]= y[i-1] + h*(k1[0]/6 +k2[0]/3 +k3[0]/3 +k4[0]/6)\n",
    "        y[1][i]= y[i-1] + h*(k1[1]/6 +k2[1]/3 +k3[1]/3 +k4[1]/6)\n",
    "        y[2][i]= y[i-1] + h*(k1[2]/6 +k2[2]/3 +k3[2]/3 +k4[2]/6)\n",
    "        y[3][i]= y[i-1] + h*(k1[3]/6 +k2[3]/3 +k3[3]/3 +k4[3]/6)\n",
    "    "
   ]
  }
 ],
 "metadata": {
  "interpreter": {
   "hash": "724fa9851ab0f3c363ea6c751f3ea040b48988fb5067ff51ac6e585b29d3905f"
  },
  "kernelspec": {
   "display_name": "Python 3.8.5 ('base')",
   "language": "python",
   "name": "python3"
  },
  "language_info": {
   "codemirror_mode": {
    "name": "ipython",
    "version": 3
   },
   "file_extension": ".py",
   "mimetype": "text/x-python",
   "name": "python",
   "nbconvert_exporter": "python",
   "pygments_lexer": "ipython3",
   "version": "3.8.5"
  },
  "orig_nbformat": 4
 },
 "nbformat": 4,
 "nbformat_minor": 2
}
