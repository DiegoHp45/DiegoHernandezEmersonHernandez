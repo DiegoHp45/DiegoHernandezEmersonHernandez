{
 "cells": [
  {
   "cell_type": "code",
   "execution_count": null,
   "metadata": {},
   "outputs": [],
   "source": []
  },
  {
   "cell_type": "code",
   "execution_count": 1,
   "metadata": {},
   "outputs": [],
   "source": [
    "from mpl_toolkits import mplot3d\n",
    "import mpl_toolkits.mplot3d.axes3d as p3\n",
    "import numpy as np\n",
    "import matplotlib.pyplot as plt\n",
    "import matplotlib as mpl\n",
    "from tqdm import tqdm \n",
    "import matplotlib.animation as anim"
   ]
  },
  {
   "cell_type": "code",
   "execution_count": 2,
   "metadata": {},
   "outputs": [],
   "source": [
    "class Particle():\n",
    "    \n",
    "    # init\n",
    "    def __init__(self, r0,v0,a0,t,m,radius,Id):\n",
    "        \n",
    "        self.dt  = t[1] - t[0]\n",
    "        \n",
    "        self.r = r0\n",
    "        self.v = v0\n",
    "        self.a = a0\n",
    "        \n",
    "        self.rVector = np.zeros( (len(t),len(r0)) )\n",
    "        self.vVector = np.zeros( (len(t),len(v0)) )\n",
    "        self.aVector = np.zeros( (len(t),len(a0)) )\n",
    "        \n",
    "        self.m = m\n",
    "        self.radius = radius\n",
    "        self.Id = Id\n",
    "        \n",
    "    # Method\n",
    "    def Evolution(self,i):\n",
    "        \n",
    "        self.SetPosition(i,self.r)\n",
    "        self.SetVelocity(i,self.v)\n",
    "        \n",
    "       # print(self.r)\n",
    "        \n",
    "        # Euler method\n",
    "        self.r += self.dt * self.v\n",
    "        self.v += self.dt * self.a\n",
    "        self.a = np.array([0.,0.])\n",
    "    \n",
    "    def CheckWallLimits(self,limits,dim=2):\n",
    "        for i in range(dim):\n",
    "            if self.r[i] + self.radius > limits[i]:\n",
    "                self.v[i] = - self.v[i]\n",
    "            if self.r[i] - self.radius < - limits[i]:\n",
    "                self.v[i] = - self.v[i]\n",
    "                \n",
    "    # Method Force        \n",
    "        \n",
    "    def Force(self,p1,K,dim=2):\n",
    "        \n",
    "        tot_force= 0\n",
    "        res= [0.,0.]\n",
    "        norma= 0\n",
    "        for i in range(dim):\n",
    "            res[i]= (self.r[i]-p1.r[i])\n",
    "            norma+= res[i]** 2\n",
    "            \n",
    "        norma= norma**0.5\n",
    "        par= (norma)**3\n",
    "        res= np.array(res)\n",
    "        n_vector= res/norma\n",
    "        if norma < p1.radius + self.radius and norma != 0 :\n",
    "            tot_force= par * n_vector\n",
    "        self.a= tot_force\n",
    "        p1.a= -tot_force\n",
    "        \n",
    "                \n",
    "    \n",
    "    # Setters\n",
    "    \n",
    "    def SetPosition(self,i,r):\n",
    "        self.rVector[i] = r\n",
    "        \n",
    "    def SetVelocity(self,i,v):\n",
    "        self.vVector[i] = v\n",
    "        \n",
    "    # Getters  \n",
    "    def GetPositionVector(self):\n",
    "        return self.rVector\n",
    "    \n",
    "    def GetRPositionVector(self):\n",
    "        return self.RrVector \n",
    "    \n",
    "\n",
    "    def GetVelocityVector(self):\n",
    "        return self.vVector\n",
    "    \n",
    "    def GetR(self):\n",
    "        return self.radius\n",
    "    \n",
    "    def ReduceSize(self,factor):\n",
    "        \n",
    "        self.RrVector = np.array([self.rVector[0]]) # initial condition\n",
    "        \n",
    "        \n",
    "        for i in range(1,len(self.rVector)):\n",
    "            if i%factor == 0:\n",
    "                self.RrVector = np.vstack([self.RrVector,self.rVector[i]])\n",
    "                \n",
    "                print(self.RrVector)"
   ]
  },
  {
   "cell_type": "code",
   "execution_count": 3,
   "metadata": {},
   "outputs": [],
   "source": [
    "limits= np.array([20.,20.])\n",
    "dt = 0.01\n",
    "tmax = 10\n",
    "t = np.arange(0,tmax+dt,dt)"
   ]
  },
  {
   "cell_type": "code",
   "execution_count": 4,
   "metadata": {},
   "outputs": [],
   "source": [
    "def create_particles():\n",
    "    r= 2.\n",
    "    m= 1.\n",
    "    x1= np.array([2.,2.])\n",
    "    v1= np.array([20.,0.])\n",
    "    a1= np.array([0.,0.])\n",
    "    p1= Particle(x1,v1,a1,t,m,r,0)\n",
    "    x2= np.array([-2.,2.])\n",
    "    v2= np.array([0.,0.])\n",
    "    p2= Particle(x2,v2,a1,t,m,r,1)\n",
    "    x3= np.array([-15.,-15.])\n",
    "    p3= Particle(x3,v2,a1,t,m,r,2)\n",
    "    return [p1,p2,p3]\n"
   ]
  },
  {
   "cell_type": "code",
   "execution_count": 5,
   "metadata": {},
   "outputs": [],
   "source": [
    "Particles= create_particles()"
   ]
  },
  {
   "cell_type": "code",
   "execution_count": 6,
   "metadata": {},
   "outputs": [],
   "source": [
    "def simulation(Particles):\n",
    "    \n",
    "    K=100\n",
    "    print(limits)\n",
    "    for it in tqdm(range(len(t))): # Evolucion temporal\n",
    "        for i in range(len(Particles)):\n",
    "            Particles[i].CheckWallLimits(limits,2)\n",
    "            Particles[i].Evolution(it)\n",
    "            for j in range(len(Particles)):\n",
    "                if j != i :\n",
    "                    Particles[i].Force(Particles[j],K)\n",
    "        \n",
    "    return Particles"
   ]
  },
  {
   "cell_type": "code",
   "execution_count": 7,
   "metadata": {},
   "outputs": [
    {
     "name": "stderr",
     "output_type": "stream",
     "text": [
      " 54%|█████▍    | 540/1001 [00:00<00:00, 5342.81it/s]"
     ]
    },
    {
     "name": "stdout",
     "output_type": "stream",
     "text": [
      "[20. 20.]\n"
     ]
    },
    {
     "name": "stderr",
     "output_type": "stream",
     "text": [
      "100%|██████████| 1001/1001 [00:00<00:00, 5678.65it/s]\n"
     ]
    }
   ],
   "source": [
    "a= simulation(Particles)"
   ]
  },
  {
   "cell_type": "code",
   "execution_count": 8,
   "metadata": {},
   "outputs": [
    {
     "name": "stdout",
     "output_type": "stream",
     "text": [
      "[[  2.    2. ]\n",
      " [  2.2   2. ]\n",
      " [  2.4   2. ]\n",
      " ...\n",
      " [-16.8   2. ]\n",
      " [-16.6   2. ]\n",
      " [-16.4   2. ]]\n"
     ]
    }
   ],
   "source": [
    "xd= Particles[0].GetPositionVector()\n",
    "print(xd)"
   ]
  },
  {
   "cell_type": "code",
   "execution_count": 9,
   "metadata": {},
   "outputs": [
    {
     "data": {
      "text/plain": [
       "<matplotlib.collections.PathCollection at 0x20a29541670>"
      ]
     },
     "execution_count": 9,
     "metadata": {},
     "output_type": "execute_result"
    },
    {
     "data": {
      "image/png": "[encoded data removed]",
      "text/plain": [
       "<Figure size 432x288 with 1 Axes>"
      ]
     },
     "metadata": {
      "needs_background": "light"
     },
     "output_type": "display_data"
    }
   ],
   "source": [
    "x= []\n",
    "y= []\n",
    "for i in range(len(xd)):\n",
    "    x.append(xd[i][0])\n",
    "    y.append(xd[i][0])\n",
    "    \n",
    "plt.figure()\n",
    "plt.scatter(x,y)"
   ]
  },
  {
   "cell_type": "code",
   "execution_count": 10,
   "metadata": {},
   "outputs": [
    {
     "data": {
      "text/plain": [
       "<matplotlib.legend.Legend at 0x20a2a4e0220>"
      ]
     },
     "execution_count": 10,
     "metadata": {},
     "output_type": "execute_result"
    },
    {
     "data": {
      "image/png": "[encoded data removed]",
      "text/plain": [
       "<Figure size 432x288 with 1 Axes>"
      ]
     },
     "metadata": {
      "needs_background": "light"
     },
     "output_type": "display_data"
    },
    {
     "data": {
      "image/png": "[encoded data removed]",
      "text/plain": [
       "<Figure size 432x288 with 1 Axes>"
      ]
     },
     "metadata": {
      "needs_background": "light"
     },
     "output_type": "display_data"
    }
   ],
   "source": [
    "import numpy as np\n",
    "import pandas as pd\n",
    "import matplotlib.pyplot as plt\n",
    "\n",
    "url=\"https://raw.githubusercontent.com/asegura4488/Database/main/MetodosComputacionalesReforma/EnergiaPotencialGas2D.txt\"\n",
    "data=pd.read_csv(url, delim_whitespace=True)\n",
    "data=np.array(data)\n",
    "x,y=data[:,0],data[:,1]\n",
    "m=np.mean(y)\n",
    "y=y-m\n",
    "\n",
    "plt.figure()\n",
    "plt.plot(x,y, \"c--\",label=\"Energia Potencial\" )\n",
    "plt.xlabel(\"t[s]\")\n",
    "plt.ylabel(\"E[j]\")\n",
    "plt.legend()\n",
    "\n",
    "tf=abs(np.fft.rfft(y))\n",
    "\n",
    "Npoints=len(tf)\n",
    "freq=np.fft.fftfreq(Npoints)\n",
    "\n",
    "\n",
    "\n",
    "\n",
    "filtro=freq<=0.005\n",
    "tf[filtro]=0\n",
    "ii=np.argmax(tf)\n",
    "\n",
    "fun=freq[ii]\n",
    "\n",
    "#grafica2\n",
    "plt.figure()\n",
    "x2=x*1000\n",
    "y2=10*np.cos((fun)*x2)\n",
    "\n",
    "plt.plot(x2,y, \"c--\",label=\"Serie Original\")\n",
    "plt.xlabel(\"t[ms]\")\n",
    "plt.ylabel(\"E[j]\")\n",
    "plt.plot(x2,y2,label=\"Fundamental\")\n",
    "plt.title(\"Tiempo libre 800.00 pasos temporales\")\n",
    "plt.legend()\n"
   ]
  },
  {
   "cell_type": "code",
   "execution_count": null,
   "metadata": {},
   "outputs": [],
   "source": [
    "import matplotlib.pyplot as plt\n",
    "import numpy as np\n",
    "\n",
    "data= np.loadtxt(\"derivada_central.txt\")\n",
    "plt.figure()\n",
    "plt.plot(data[:,0],data[:,1])\n"
   ]
  }
 ],
 "metadata": {
  "interpreter": {
   "hash": "c469c999aae2bf6d578d6881606ced546d1546d312a4811937df5b24665ee8bc"
  },
  "kernelspec": {
   "display_name": "Python 3.8.5 ('base')",
   "language": "python",
   "name": "python3"
  },
  "language_info": {
   "codemirror_mode": {
    "name": "ipython",
    "version": 3
   },
   "file_extension": ".py",
   "mimetype": "text/x-python",
   "name": "python",
   "nbconvert_exporter": "python",
   "pygments_lexer": "ipython3",
   "version": "3.8.5"
  },
  "orig_nbformat": 4
 },
 "nbformat": 4,
 "nbformat_minor": 2
}
